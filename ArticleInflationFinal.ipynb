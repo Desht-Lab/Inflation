{
 "cells": [
  {
   "cell_type": "markdown",
   "id": "9f0507a6-8ccf-4596-8f81-bbd98881c44d",
   "metadata": {},
   "source": [
    "# Анализ республиканской инфляции (2011 - 2024)"
   ]
  },
  {
   "cell_type": "code",
   "execution_count": 1,
   "id": "848b0c7b-1902-4f2a-be2f-d09a0f8bfd82",
   "metadata": {},
   "outputs": [],
   "source": [
    "#Импорты и чтение данных\n",
    "import warnings\n",
    "warnings.filterwarnings(\"ignore\")\n",
    "\n",
    "import pandas as pd \n",
    "import numpy as np \n",
    "\n",
    "import math\n",
    "from tslearn.clustering import TimeSeriesKMeans\n",
    "from tslearn.preprocessing import TimeSeriesScalerMeanVariance\n",
    "import networkx as nx\n",
    "\n",
    "#Vizualizations\n",
    "import dash\n",
    "from dash import dcc, html\n",
    "from dash.dependencies import Input, Output\n",
    "import plotly.graph_objs as go\n",
    "import matplotlib.pyplot as plt\n",
    "import matplotlib.colors as mcolors\n",
    "\n",
    "df = pd.read_pickle('RepublicInflation062024.pkl')\n",
    "pivot_data = df.pivot(index='date_dt', columns='label', values='value') #Создадим пивот таблицу"
   ]
  },
  {
   "cell_type": "markdown",
   "id": "ee9fa4c0-4a43-49da-9f4a-e0349f8d4b7b",
   "metadata": {},
   "source": [
    "Источник данных: <a href = \"https://taldau.stat.gov.kz/ru/NewIndex/GetIndex/703076\">Индекс потребительских цен БНС</a><br>\n",
    "Период: Месяц <br>\n",
    "Соотнесение периодов: отчетный период к предыдущему периоду <br>\n",
    "Количество категорий потребительских товаров: 168 <br>\r\n",
    "Период: Январь 2011 - Май 2024<br>\n",
    "\n",
    "Подогтовка данных:\n",
    "1. Категории потребительских товаров разложены по иеррахии в Талдау\n",
    "2. Найден самый нижний уровень в каждой ветке\n",
    "3. \"Дырявые\" временные ряды заменены более высоким рядом по иерархии, а ряды, которые находились на одном уровн, удалены, чтобы исключить double counting"
   ]
  },
  {
   "cell_type": "markdown",
   "id": "53d9b7f8-5efb-4833-9799-81f9fd8ad24c",
   "metadata": {},
   "source": [
    "Для понимания каждого временного ряда, найдем его максимальную корреляцию с другими категориями потребительских товаров."
   ]
  },
  {
   "cell_type": "code",
   "execution_count": 2,
   "id": "deb526c5-a869-438f-a31c-890af616a167",
   "metadata": {
    "jupyter": {
     "source_hidden": true
    }
   },
   "outputs": [
    {
     "data": {
      "text/html": [
       "<div>\n",
       "<style scoped>\n",
       "    .dataframe tbody tr th:only-of-type {\n",
       "        vertical-align: middle;\n",
       "    }\n",
       "\n",
       "    .dataframe tbody tr th {\n",
       "        vertical-align: top;\n",
       "    }\n",
       "\n",
       "    .dataframe thead th {\n",
       "        text-align: right;\n",
       "    }\n",
       "</style>\n",
       "<table border=\"1\" class=\"dataframe\">\n",
       "  <thead>\n",
       "    <tr style=\"text-align: right;\">\n",
       "      <th></th>\n",
       "      <th>Максимальная корреляция</th>\n",
       "      <th>Колонка для сравнения</th>\n",
       "    </tr>\n",
       "    <tr>\n",
       "      <th>Категории инфляции</th>\n",
       "      <th></th>\n",
       "      <th></th>\n",
       "    </tr>\n",
       "  </thead>\n",
       "  <tbody>\n",
       "    <tr>\n",
       "      <th>Женская одежда, кроме трикотажных и чулочно-носочных изделий_5259121</th>\n",
       "      <td>0.984987</td>\n",
       "      <td>Мужская одежда, кроме трикотажных и чулочно-но...</td>\n",
       "    </tr>\n",
       "    <tr>\n",
       "      <th>Мужская одежда, кроме трикотажных и чулочно-носочных изделий_5259093</th>\n",
       "      <td>0.984987</td>\n",
       "      <td>Женская одежда, кроме трикотажных и чулочно-но...</td>\n",
       "    </tr>\n",
       "    <tr>\n",
       "      <th>Мужские трикотажные изделия и носки_5259109</th>\n",
       "      <td>0.982522</td>\n",
       "      <td>Мужская одежда, кроме трикотажных и чулочно-но...</td>\n",
       "    </tr>\n",
       "    <tr>\n",
       "      <th>Женская обувь_5259240</th>\n",
       "      <td>0.980741</td>\n",
       "      <td>Мужская обувь_5259229</td>\n",
       "    </tr>\n",
       "    <tr>\n",
       "      <th>Мужская обувь_5259229</th>\n",
       "      <td>0.980741</td>\n",
       "      <td>Женская обувь_5259240</td>\n",
       "    </tr>\n",
       "    <tr>\n",
       "      <th>...</th>\n",
       "      <td>...</td>\n",
       "      <td>...</td>\n",
       "    </tr>\n",
       "    <tr>\n",
       "      <th>Газ_5259349</th>\n",
       "      <td>0.274726</td>\n",
       "      <td>Водоснабжение и другие услуги, связанные с сод...</td>\n",
       "    </tr>\n",
       "    <tr>\n",
       "      <th>Проезд в междугороднем автобусе_5259726</th>\n",
       "      <td>0.263912</td>\n",
       "      <td>Мотоциклы_5259649</td>\n",
       "    </tr>\n",
       "    <tr>\n",
       "      <th>Проезд городским автобусом_5259717</th>\n",
       "      <td>0.246709</td>\n",
       "      <td>Газ_5259349</td>\n",
       "    </tr>\n",
       "    <tr>\n",
       "      <th>Услуги телефонной и факсимильной связи_4771753</th>\n",
       "      <td>0.219523</td>\n",
       "      <td>Электроэнергия_5259337</td>\n",
       "    </tr>\n",
       "    <tr>\n",
       "      <th>Почтовые услуги_5259888</th>\n",
       "      <td>0.109030</td>\n",
       "      <td>Проезд в междугороднем автобусе_5259726</td>\n",
       "    </tr>\n",
       "  </tbody>\n",
       "</table>\n",
       "<p>168 rows × 2 columns</p>\n",
       "</div>"
      ],
      "text/plain": [
       "                                                    Максимальная корреляция  \\\n",
       "Категории инфляции                                                            \n",
       "Женская одежда, кроме трикотажных и чулочно-нос...                 0.984987   \n",
       "Мужская одежда, кроме трикотажных и чулочно-нос...                 0.984987   \n",
       "Мужские трикотажные изделия и носки_5259109                        0.982522   \n",
       "Женская обувь_5259240                                              0.980741   \n",
       "Мужская обувь_5259229                                              0.980741   \n",
       "...                                                                     ...   \n",
       "Газ_5259349                                                        0.274726   \n",
       "Проезд в междугороднем автобусе_5259726                            0.263912   \n",
       "Проезд городским автобусом_5259717                                 0.246709   \n",
       "Услуги телефонной и факсимильной связи_4771753                     0.219523   \n",
       "Почтовые услуги_5259888                                            0.109030   \n",
       "\n",
       "                                                                                Колонка для сравнения  \n",
       "Категории инфляции                                                                                     \n",
       "Женская одежда, кроме трикотажных и чулочно-нос...  Мужская одежда, кроме трикотажных и чулочно-но...  \n",
       "Мужская одежда, кроме трикотажных и чулочно-нос...  Женская одежда, кроме трикотажных и чулочно-но...  \n",
       "Мужские трикотажные изделия и носки_5259109         Мужская одежда, кроме трикотажных и чулочно-но...  \n",
       "Женская обувь_5259240                                                           Мужская обувь_5259229  \n",
       "Мужская обувь_5259229                                                           Женская обувь_5259240  \n",
       "...                                                                                               ...  \n",
       "Газ_5259349                                         Водоснабжение и другие услуги, связанные с сод...  \n",
       "Проезд в междугороднем автобусе_5259726                                             Мотоциклы_5259649  \n",
       "Проезд городским автобусом_5259717                                                        Газ_5259349  \n",
       "Услуги телефонной и факсимильной связи_4771753                                 Электроэнергия_5259337  \n",
       "Почтовые услуги_5259888                                       Проезд в междугороднем автобусе_5259726  \n",
       "\n",
       "[168 rows x 2 columns]"
      ]
     },
     "execution_count": 2,
     "metadata": {},
     "output_type": "execute_result"
    }
   ],
   "source": [
    "#Вычисление максимальной корреляции\n",
    "result = pivot_data.corr()\n",
    "result_no_diag = result.copy()\n",
    "np.fill_diagonal(result_no_diag.values, np.nan)\n",
    "\n",
    "max_corr_each_row = result_no_diag.max(axis=1)\n",
    "max_corr_col_each_row = result_no_diag.idxmax(axis=1)\n",
    "\n",
    "max_corr_info = pd.DataFrame({\n",
    "    'Максимальная корреляция': max_corr_each_row,\n",
    "    'Колонка для сравнения': max_corr_col_each_row\n",
    "})\n",
    "max_corr_info.index.name = \"Категории инфляции\"\n",
    "\n",
    "max_corr_info.sort_values(by = 'Максимальная корреляция', ascending = False)"
   ]
  },
  {
   "cell_type": "markdown",
   "id": "bb836406-ff08-4269-bb83-92f43b2aa734",
   "metadata": {},
   "source": [
    "Категории с низкой максимальной корреляцией скорее всего не имеют связей с другими категориями. <br>\n",
    "Распределение максимальной корреляции ниже. <br>"
   ]
  },
  {
   "cell_type": "code",
   "execution_count": 3,
   "id": "7f0ec5d9-d572-4a18-a1c2-f796918a1d63",
   "metadata": {
    "jupyter": {
     "source_hidden": true
    },
    "scrolled": true
   },
   "outputs": [
    {
     "data": {
      "text/html": [
       "<div>\n",
       "<style scoped>\n",
       "    .dataframe tbody tr th:only-of-type {\n",
       "        vertical-align: middle;\n",
       "    }\n",
       "\n",
       "    .dataframe tbody tr th {\n",
       "        vertical-align: top;\n",
       "    }\n",
       "\n",
       "    .dataframe thead th {\n",
       "        text-align: right;\n",
       "    }\n",
       "</style>\n",
       "<table border=\"1\" class=\"dataframe\">\n",
       "  <thead>\n",
       "    <tr style=\"text-align: right;\">\n",
       "      <th></th>\n",
       "      <th>Максимальная корреляция</th>\n",
       "    </tr>\n",
       "  </thead>\n",
       "  <tbody>\n",
       "    <tr>\n",
       "      <th>count</th>\n",
       "      <td>168.000000</td>\n",
       "    </tr>\n",
       "    <tr>\n",
       "      <th>mean</th>\n",
       "      <td>0.721388</td>\n",
       "    </tr>\n",
       "    <tr>\n",
       "      <th>std</th>\n",
       "      <td>0.193238</td>\n",
       "    </tr>\n",
       "    <tr>\n",
       "      <th>min</th>\n",
       "      <td>0.109030</td>\n",
       "    </tr>\n",
       "    <tr>\n",
       "      <th>25%</th>\n",
       "      <td>0.581462</td>\n",
       "    </tr>\n",
       "    <tr>\n",
       "      <th>50%</th>\n",
       "      <td>0.754755</td>\n",
       "    </tr>\n",
       "    <tr>\n",
       "      <th>75%</th>\n",
       "      <td>0.867710</td>\n",
       "    </tr>\n",
       "    <tr>\n",
       "      <th>max</th>\n",
       "      <td>0.984987</td>\n",
       "    </tr>\n",
       "  </tbody>\n",
       "</table>\n",
       "</div>"
      ],
      "text/plain": [
       "       Максимальная корреляция\n",
       "count               168.000000\n",
       "mean                  0.721388\n",
       "std                   0.193238\n",
       "min                   0.109030\n",
       "25%                   0.581462\n",
       "50%                   0.754755\n",
       "75%                   0.867710\n",
       "max                   0.984987"
      ]
     },
     "execution_count": 3,
     "metadata": {},
     "output_type": "execute_result"
    }
   ],
   "source": [
    "#Описательный анализ максимальной корреляции \n",
    "max_corr_info.sort_values(by = 'Максимальная корреляция', ascending = False).describe() "
   ]
  },
  {
   "cell_type": "markdown",
   "id": "9431f1f5-1ab1-4c4f-a671-c7709b4ccfb6",
   "metadata": {},
   "source": [
    "## CMGR - Тренды инфляции (последние 120 месяцев)"
   ]
  },
  {
   "cell_type": "code",
   "execution_count": 4,
   "id": "c981bbd2-107a-42d0-bacf-a873f4e8141d",
   "metadata": {},
   "outputs": [],
   "source": [
    "#Вычисление cmgr\n",
    "cmgr = pivot_data + 100\n",
    "def calculate_relative_inflation(series):\n",
    "    last_120_values = series.tail(120)  \n",
    "    n = len(last_120_values) \n",
    "    if n == 0:\n",
    "        return np.nan  \n",
    "    product = last_120_values.prod()\n",
    "    if product <= 0:\n",
    "        return np.nan  \n",
    "    relative_inflation = (product / (100 ** n)) ** (1 / n) - 1\n",
    "    return relative_inflation\n",
    "\n",
    "relative_inflation = cmgr.apply(calculate_relative_inflation, axis=0)"
   ]
  },
  {
   "cell_type": "markdown",
   "id": "9acf67bd-d07e-4552-bdfb-751663ae255c",
   "metadata": {},
   "source": [
    "Топ 10 самого низкого CMGR:"
   ]
  },
  {
   "cell_type": "code",
   "execution_count": 5,
   "id": "db4f1a9b-4e4e-43f8-9312-fb08c18be7dd",
   "metadata": {},
   "outputs": [
    {
     "data": {
      "text/plain": [
       "Категории инфляции\n",
       "Телефонное и факсимильное оборудование_4771744                         0.119929\n",
       "Услуги телефонной и факсимильной связи_4771753                         0.219241\n",
       "Почтовые услуги_5259888                                                0.238137\n",
       "Прочие финансовые услуги, не отнесенные к другим категориям_4772099    0.262437\n",
       "Картофель_4770906                                                      0.267755\n",
       "Газ_5259349                                                            0.304564\n",
       "Овощи свежие_4770884                                                   0.382300\n",
       "Проезд городским автобусом_5259717                                     0.406389\n",
       "Проживание в гостинице_4772003                                         0.444082\n",
       "Дошкольное и начальное образование_4771953                             0.458816\n",
       "dtype: float64"
      ]
     },
     "execution_count": 5,
     "metadata": {},
     "output_type": "execute_result"
    }
   ],
   "source": [
    "relative_inflation.index.name = \"Категории инфляции\"\n",
    "relative_inflation.sort_values().head(10)*100 "
   ]
  },
  {
   "cell_type": "markdown",
   "id": "0654d7b9-8952-4c89-9c9c-5f0768b138df",
   "metadata": {},
   "source": [
    "Топ 10 самого высокого CMGR:"
   ]
  },
  {
   "cell_type": "code",
   "execution_count": 6,
   "id": "d893c809-2a39-40b6-aaa6-de4859e4dd06",
   "metadata": {},
   "outputs": [
    {
     "data": {
      "text/plain": [
       "Категории инфляции\n",
       "Мыло хозяйственное_5259528                                         1.275061\n",
       "Масло оливковое_4770834                                            1.228911\n",
       "Фрукты консервированные_4770870                                    1.223281\n",
       "Велосипед детский_5259660                                          1.187467\n",
       "Детская обувь_5259253                                              1.175292\n",
       "Сигареты_5258551                                                   1.141983\n",
       "Молоко консервированное_4770788                                    1.114909\n",
       "Полуфабрикаты для изготовления напитков на основе какао_4771009    1.114567\n",
       "Напитки газированные_4771018                                       1.081313\n",
       "Чай зеленый_4771003                                                1.073800\n",
       "dtype: float64"
      ]
     },
     "execution_count": 6,
     "metadata": {},
     "output_type": "execute_result"
    }
   ],
   "source": [
    "relative_inflation.sort_values(ascending = False).head(10)*100 #CMGR отсортирован"
   ]
  },
  {
   "cell_type": "markdown",
   "id": "ab997e5f-3197-4af3-8feb-653746aaaa30",
   "metadata": {},
   "source": [
    "## Сезональность"
   ]
  },
  {
   "cell_type": "markdown",
   "id": "03a6d506-7453-49b4-8a65-84a0e82b332c",
   "metadata": {},
   "source": [
    "Для поиска товаров с высокой сезональностью можно создать сдвинутые на 12 месяцев временные ряды и найти корреляцию с ними."
   ]
  },
  {
   "cell_type": "code",
   "execution_count": 7,
   "id": "40e97213-1ad0-42e3-8f04-a83fd86a8ff1",
   "metadata": {
    "jupyter": {
     "source_hidden": true
    }
   },
   "outputs": [
    {
     "data": {
      "text/html": [
       "<div>\n",
       "<style scoped>\n",
       "    .dataframe tbody tr th:only-of-type {\n",
       "        vertical-align: middle;\n",
       "    }\n",
       "\n",
       "    .dataframe tbody tr th {\n",
       "        vertical-align: top;\n",
       "    }\n",
       "\n",
       "    .dataframe thead th {\n",
       "        text-align: right;\n",
       "    }\n",
       "</style>\n",
       "<table border=\"1\" class=\"dataframe\">\n",
       "  <thead>\n",
       "    <tr style=\"text-align: right;\">\n",
       "      <th></th>\n",
       "      <th>Категории инфляции</th>\n",
       "      <th>Сдвинутый ряд</th>\n",
       "      <th>Корреляция</th>\n",
       "    </tr>\n",
       "  </thead>\n",
       "  <tbody>\n",
       "    <tr>\n",
       "      <th>12</th>\n",
       "      <td>Высшее образование_4771973</td>\n",
       "      <td>Высшее образование_4771973_сдвинутый</td>\n",
       "      <td>0.836489</td>\n",
       "    </tr>\n",
       "    <tr>\n",
       "      <th>96</th>\n",
       "      <td>Профессиональное среднее образование_4771971</td>\n",
       "      <td>Профессиональное среднее образование_4771971_с...</td>\n",
       "      <td>0.817611</td>\n",
       "    </tr>\n",
       "    <tr>\n",
       "      <th>121</th>\n",
       "      <td>Среднее образование_4771961</td>\n",
       "      <td>Среднее образование_4771961_сдвинутый</td>\n",
       "      <td>0.805569</td>\n",
       "    </tr>\n",
       "    <tr>\n",
       "      <th>76</th>\n",
       "      <td>Овощи свежие_4770884</td>\n",
       "      <td>Овощи свежие_4770884_сдвинутый</td>\n",
       "      <td>0.711112</td>\n",
       "    </tr>\n",
       "    <tr>\n",
       "      <th>141</th>\n",
       "      <td>Услуги санаториев_5259637</td>\n",
       "      <td>Услуги санаториев_5259637_сдвинутый</td>\n",
       "      <td>0.599273</td>\n",
       "    </tr>\n",
       "    <tr>\n",
       "      <th>128</th>\n",
       "      <td>Страхование_4772078</td>\n",
       "      <td>Страхование_4772078_сдвинутый</td>\n",
       "      <td>0.593476</td>\n",
       "    </tr>\n",
       "    <tr>\n",
       "      <th>167</th>\n",
       "      <td>Яйца_4770813</td>\n",
       "      <td>Яйца_4770813_сдвинутый</td>\n",
       "      <td>0.573383</td>\n",
       "    </tr>\n",
       "    <tr>\n",
       "      <th>21</th>\n",
       "      <td>Дрова_5259366</td>\n",
       "      <td>Дрова_5259366_сдвинутый</td>\n",
       "      <td>0.540532</td>\n",
       "    </tr>\n",
       "    <tr>\n",
       "      <th>11</th>\n",
       "      <td>Воздушный пассажирский транспорт_5259728</td>\n",
       "      <td>Воздушный пассажирский транспорт_5259728_сдвин...</td>\n",
       "      <td>0.535138</td>\n",
       "    </tr>\n",
       "  </tbody>\n",
       "</table>\n",
       "</div>"
      ],
      "text/plain": [
       "                               Категории инфляции  \\\n",
       "12                     Высшее образование_4771973   \n",
       "96   Профессиональное среднее образование_4771971   \n",
       "121                   Среднее образование_4771961   \n",
       "76                           Овощи свежие_4770884   \n",
       "141                     Услуги санаториев_5259637   \n",
       "128                           Страхование_4772078   \n",
       "167                                  Яйца_4770813   \n",
       "21                                  Дрова_5259366   \n",
       "11       Воздушный пассажирский транспорт_5259728   \n",
       "\n",
       "                                         Сдвинутый ряд  Корреляция  \n",
       "12                Высшее образование_4771973_сдвинутый    0.836489  \n",
       "96   Профессиональное среднее образование_4771971_с...    0.817611  \n",
       "121              Среднее образование_4771961_сдвинутый    0.805569  \n",
       "76                      Овощи свежие_4770884_сдвинутый    0.711112  \n",
       "141                Услуги санаториев_5259637_сдвинутый    0.599273  \n",
       "128                      Страхование_4772078_сдвинутый    0.593476  \n",
       "167                             Яйца_4770813_сдвинутый    0.573383  \n",
       "21                             Дрова_5259366_сдвинутый    0.540532  \n",
       "11   Воздушный пассажирский транспорт_5259728_сдвин...    0.535138  "
      ]
     },
     "execution_count": 7,
     "metadata": {},
     "output_type": "execute_result"
    }
   ],
   "source": [
    "#Вычисления сезональности\n",
    "lagged_df = pivot_data.shift(12)\n",
    "\n",
    "corr_table_seasonality = pd.DataFrame(columns=['Категории инфляции', 'Сдвинутый ряд', 'Корреляция'])\n",
    "\n",
    "for col in pivot_data.columns:\n",
    "    corr_value = pivot_data[col].corr(lagged_df[col])\n",
    "    new_row = pd.DataFrame({\n",
    "        'Категории инфляции': [col],\n",
    "        'Сдвинутый ряд': [f'{col}_сдвинутый'],\n",
    "        'Корреляция': [corr_value]\n",
    "    })\n",
    "    corr_table_seasonality = pd.concat([corr_table_seasonality, new_row], ignore_index=True)\n",
    "filtered_corr_table = corr_table_seasonality[corr_table_seasonality['Корреляция'] > 0.5].sort_values(by = 'Корреляция', ascending = False)\n",
    "filtered_corr_table"
   ]
  },
  {
   "cell_type": "code",
   "execution_count": 8,
   "id": "d8adae2a-70bd-4e84-93d1-a5cb2f816719",
   "metadata": {
    "jupyter": {
     "source_hidden": true
    }
   },
   "outputs": [
    {
     "data": {
      "text/html": [
       "\n",
       "        <iframe\n",
       "            width=\"100%\"\n",
       "            height=\"650\"\n",
       "            src=\"http://127.0.0.1:8050/\"\n",
       "            frameborder=\"0\"\n",
       "            allowfullscreen\n",
       "            \n",
       "        ></iframe>\n",
       "        "
      ],
      "text/plain": [
       "<IPython.lib.display.IFrame at 0x2177c31db10>"
      ]
     },
     "metadata": {},
     "output_type": "display_data"
    }
   ],
   "source": [
    "#Визуализация\n",
    "filtered_vars = filtered_corr_table['Категории инфляции'].tolist()\n",
    "\n",
    "seasonality = dash.Dash(__name__)\n",
    "\n",
    "seasonality.layout = html.Div([\n",
    "    dcc.Dropdown(\n",
    "        id='variable-dropdown',\n",
    "        options=[{'label': var, 'value': var} for var in filtered_vars],\n",
    "        value=filtered_vars[0]\n",
    "    ),\n",
    "    dcc.Graph(id='time-series-graph'),\n",
    "    html.Div(\"*Для того чтобы приблизить, зажмите и протяните мышкой, выбирая нужную область\",\n",
    "             style={'margin-top': '20px', 'font-family': 'Gotham', 'font-size': '14px', 'color': '#000000'})\n",
    "])\n",
    "\n",
    "@seasonality.callback(\n",
    "    Output('time-series-graph', 'figure'),\n",
    "    [Input('variable-dropdown', 'value')]\n",
    ")\n",
    "def update_graph(selected_var):\n",
    "    corr_value = filtered_corr_table.loc[filtered_corr_table['Категории инфляции'] == selected_var, 'Корреляция'].values[0]\n",
    "    \n",
    "    fig = go.Figure()\n",
    "    \n",
    "    fig.add_trace(go.Scatter(x=pivot_data.index, y=pivot_data[selected_var], mode='lines', name=selected_var, line=dict(color='#376c8a')))\n",
    "    \n",
    "    fig.add_trace(go.Scatter(x=lagged_df.index, y=lagged_df[selected_var], mode='lines', name=f'{selected_var}_сдвинутый', line=dict(color='#e5b983')))\n",
    "    \n",
    "    fig.update_layout(\n",
    "        title=f'Сравнение временных рядов и их сдвигов:<br>{selected_var} (Корреляция: {corr_value:.2f})',\n",
    "        yaxis_title='Инфляция',\n",
    "        legend_title='Категория',\n",
    "        font=dict(family='Gotham', size=14),\n",
    "        plot_bgcolor='white',\n",
    "        paper_bgcolor='white',\n",
    "        xaxis=dict(\n",
    "            showgrid=True,\n",
    "            gridcolor='lightgrey'\n",
    "        ),\n",
    "        yaxis=dict(\n",
    "            showgrid=True,\n",
    "            gridcolor='lightgrey'\n",
    "        ),\n",
    "        margin=dict(l=20, r=20, t=100, b=20)\n",
    "    )\n",
    "    \n",
    "    return fig\n",
    "\n",
    "if __name__ == '__main__':\n",
    "    seasonality.run_server(port=8050, debug=True)"
   ]
  },
  {
   "cell_type": "markdown",
   "id": "28d3223c-e601-47c8-9fd5-9d13fed885b0",
   "metadata": {},
   "source": [
    "## Кластеризация"
   ]
  },
  {
   "cell_type": "markdown",
   "id": "c59dd266-268b-4eb7-a784-f6dda25e8465",
   "metadata": {},
   "source": [
    "### Мотивация"
   ]
  },
  {
   "cell_type": "markdown",
   "id": "e6747284-883d-46e4-a340-371319c526da",
   "metadata": {},
   "source": [
    "Инфляция - это агрегированная переменная, поэтому полезно разложить инфляцию на основные группы (кластеры), которые на нее влияют. "
   ]
  },
  {
   "cell_type": "markdown",
   "id": "7d7d6440-7010-4210-a240-42308df159d5",
   "metadata": {},
   "source": [
    "### Масштабирование"
   ]
  },
  {
   "cell_type": "code",
   "execution_count": 9,
   "id": "f42e2650-959e-4a5a-93fd-c910a8958448",
   "metadata": {
    "jupyter": {
     "source_hidden": true
    }
   },
   "outputs": [
    {
     "data": {
      "text/html": [
       "<div>\n",
       "<style scoped>\n",
       "    .dataframe tbody tr th:only-of-type {\n",
       "        vertical-align: middle;\n",
       "    }\n",
       "\n",
       "    .dataframe tbody tr th {\n",
       "        vertical-align: top;\n",
       "    }\n",
       "\n",
       "    .dataframe thead th {\n",
       "        text-align: right;\n",
       "    }\n",
       "</style>\n",
       "<table border=\"1\" class=\"dataframe\">\n",
       "  <thead>\n",
       "    <tr style=\"text-align: right;\">\n",
       "      <th></th>\n",
       "      <th>value</th>\n",
       "    </tr>\n",
       "  </thead>\n",
       "  <tbody>\n",
       "    <tr>\n",
       "      <th>count</th>\n",
       "      <td>27048.000000</td>\n",
       "    </tr>\n",
       "    <tr>\n",
       "      <th>mean</th>\n",
       "      <td>0.720819</td>\n",
       "    </tr>\n",
       "    <tr>\n",
       "      <th>std</th>\n",
       "      <td>1.756635</td>\n",
       "    </tr>\n",
       "    <tr>\n",
       "      <th>min</th>\n",
       "      <td>-20.400000</td>\n",
       "    </tr>\n",
       "    <tr>\n",
       "      <th>25%</th>\n",
       "      <td>0.100000</td>\n",
       "    </tr>\n",
       "    <tr>\n",
       "      <th>50%</th>\n",
       "      <td>0.400000</td>\n",
       "    </tr>\n",
       "    <tr>\n",
       "      <th>75%</th>\n",
       "      <td>0.900000</td>\n",
       "    </tr>\n",
       "    <tr>\n",
       "      <th>max</th>\n",
       "      <td>40.700000</td>\n",
       "    </tr>\n",
       "  </tbody>\n",
       "</table>\n",
       "</div>"
      ],
      "text/plain": [
       "              value\n",
       "count  27048.000000\n",
       "mean       0.720819\n",
       "std        1.756635\n",
       "min      -20.400000\n",
       "25%        0.100000\n",
       "50%        0.400000\n",
       "75%        0.900000\n",
       "max       40.700000"
      ]
     },
     "execution_count": 9,
     "metadata": {},
     "output_type": "execute_result"
    }
   ],
   "source": [
    "#Описательный анализ переменной\n",
    "pivot_data_clustering = df.pivot(index='date_dt', columns='label', values='value')\n",
    "X = TimeSeriesScalerMeanVariance().fit_transform(pivot_data_clustering.T) #Scaling для сглаживания данных\n",
    "cluster_count = math.ceil(math.sqrt(len(X)))\n",
    "df[['value']].describe()"
   ]
  },
  {
   "cell_type": "markdown",
   "id": "d35c900f-271d-4548-93dc-7553e901610e",
   "metadata": {},
   "source": [
    "TimeSeriesScalerMeanVariance Скалер для временных рядов. Масштабирует временные ряды так, чтобы их среднее значение (соответственно стандартное отклонение) в каждом измерении составляло 0 и 1"
   ]
  },
  {
   "cell_type": "code",
   "execution_count": 10,
   "id": "5b335c2e-58e2-4d12-9b76-7f70c34b24fa",
   "metadata": {
    "jupyter": {
     "source_hidden": true
    }
   },
   "outputs": [
    {
     "name": "stdout",
     "output_type": "stream",
     "text": [
      "Описательный анализ масштабированной переменной\n",
      "Среднее = 0\n",
      "Медиана = -0.2211312851044351\n",
      "Минимум = -7.370311055888087\n",
      "Максимум = 11.519637685005188\n",
      "Диапазон = 18.889948740893274\n",
      "Стандартное отклонение = 1.0\n"
     ]
    }
   ],
   "source": [
    "#Вычисления для анализа\n",
    "mean_ = np.mean(X)\n",
    "median_ = np.median(X)\n",
    "min_ = np.amin(X)\n",
    "max_ = np.amax(X)\n",
    "range_ = np.ptp(X)\n",
    "variance_ = np.var(X)\n",
    "sd_ = np.std(X)\n",
    "print(\"Описательный анализ масштабированной переменной\")\n",
    "print(\"Среднее =\", int(mean_))\n",
    "print(\"Медиана =\", median_)\n",
    "print(\"Минимум =\", min_)\n",
    "print(\"Максимум =\", max_)\n",
    "print(\"Диапазон =\", range_)\n",
    "print(\"Стандартное отклонение =\", sd_)"
   ]
  },
  {
   "cell_type": "markdown",
   "id": "280c35ad-f58f-40b3-b2de-1fade65daf89",
   "metadata": {},
   "source": [
    "### Определение числа кластеров"
   ]
  },
  {
   "cell_type": "markdown",
   "id": "062c4d2d-3f03-4209-a117-7f4dadae2c4b",
   "metadata": {},
   "source": [
    "Число кластеров для начала определяется через квадрат от числа временных рядов = 13 <br><br>\n",
    "TimeSeriesKMeans - это метод кластеризации временных рядов, который расширяет классический алгоритм KMeans, чтобы работать с временными рядами. Основное отличие заключается в метрике расстояния, которая используется для вычисления расстояния между временными рядами.\n",
    "<br>\n",
    "Euclidean cравнивает ряды один к одному, без учета временных искажений. <br>\n",
    "Инерция - это сумма расстояний рядов до ближайшего центра кластера. <br><br>\n",
    "Ниже можно увидеть Elbow Method, нам нужно визуально определить место сгиба, где есть самое большое падение в сумме расстояний. <br> \n",
    "Оптимальное количества кластеров = 8 "
   ]
  },
  {
   "cell_type": "code",
   "execution_count": 11,
   "id": "5c780bf6-6fb6-47c8-9b69-e7172f0ac41a",
   "metadata": {
    "jupyter": {
     "source_hidden": true
    }
   },
   "outputs": [
    {
     "data": {
      "image/png": "[encoded data removed]",
      "text/plain": [
       "<Figure size 640x480 with 1 Axes>"
      ]
     },
     "metadata": {},
     "output_type": "display_data"
    }
   ],
   "source": [
    "#Вычиление для определение числа кластеров\n",
    "Sum_of_distances_euclidean = []\n",
    "K = range(5,15)\n",
    "for k in K:\n",
    "    km = TimeSeriesKMeans(n_clusters=k, metric=\"euclidean\", verbose=False, random_state=42)\n",
    "    km = km.fit(X)\n",
    "    Sum_of_distances_euclidean.append(km.inertia_)\n",
    "plt.plot(K, Sum_of_distances_euclidean, color='#376c8a')\n",
    "plt.xlabel('k')\n",
    "plt.ylabel('Сумма расстояний')\n",
    "plt.title('Elbow Method для оптимального k')\n",
    "plt.show()"
   ]
  },
  {
   "cell_type": "markdown",
   "id": "5e210124-144b-4b54-83af-bf17a10f3076",
   "metadata": {},
   "source": [
    "### Финальный кластеринг"
   ]
  },
  {
   "cell_type": "code",
   "execution_count": 12,
   "id": "cd114379-5db9-485d-b8cb-a904ac6c0977",
   "metadata": {},
   "outputs": [
    {
     "data": {
      "text/html": [
       "\n",
       "        <iframe\n",
       "            width=\"100%\"\n",
       "            height=\"650\"\n",
       "            src=\"http://127.0.0.1:8051/\"\n",
       "            frameborder=\"0\"\n",
       "            allowfullscreen\n",
       "            \n",
       "        ></iframe>\n",
       "        "
      ],
      "text/plain": [
       "<IPython.lib.display.IFrame at 0x2177df04d50>"
      ]
     },
     "metadata": {},
     "output_type": "display_data"
    }
   ],
   "source": [
    "#Вычисление и визуализация\n",
    "kmE = TimeSeriesKMeans(n_clusters=8,\n",
    "                        metric=\"euclidean\",\n",
    "                        verbose=False,\n",
    "                        random_state=42)\n",
    "\n",
    "kmE = kmE.fit(X)\n",
    "\n",
    "ClusteredData = pivot_data_clustering.T\n",
    "ClusteredData['cluster'] = kmE.labels_\n",
    "clusters = ClusteredData['cluster'].unique()\n",
    "data_dict = {}\n",
    "\n",
    "cluster_names = {\n",
    "    0: \"Здравоохранение, проезд и другое\",\n",
    "    1: \"Товары длительного пользования (одежда)\",\n",
    "    2: \"Продовольствия для ежедневного пользования\",\n",
    "    3: \"Продовольствия длительного хранения\",\n",
    "    4: \"Коммунальные услуги\",\n",
    "    5: \"Мясо\",\n",
    "    6: \"Бытовые приборы и другое\",\n",
    "    7: \"Образование и другое\"\n",
    "}\n",
    "\n",
    "for cluster in clusters:\n",
    "    cluster_data = ClusteredData[ClusteredData['cluster'] == cluster]\n",
    "    cluster_timeseries = cluster_data.drop(columns=['cluster']).values\n",
    "    cluster_avg = np.mean(cluster_timeseries, axis=0)\n",
    "    date_columns = cluster_data.drop(columns=['cluster']).columns\n",
    "    data_dict[cluster] = {\n",
    "        'timeseries': cluster_timeseries,\n",
    "        'average': cluster_avg,\n",
    "        'index_names': cluster_data.index,\n",
    "        'date_columns': date_columns\n",
    "    }\n",
    "\n",
    "app = dash.Dash(__name__)\n",
    "\n",
    "app.layout = html.Div([\n",
    "    dcc.Tabs(id=\"tabs\", value='tab-1', children=[\n",
    "        dcc.Tab(label=f'Cluster {cluster}', value=f'tab-{cluster}') for cluster in clusters\n",
    "    ]),\n",
    "    html.Div(id='tabs-content'),\n",
    "\n",
    "    \n",
    "    html.Div(\"*Для того чтобы приблизить, зажмите и протяните мышкой, выбирая нужную область\",\n",
    "             style={'margin-top': '20px', 'font-family': 'Gotham', 'font-size': '14px', 'color': '#000000'})\n",
    "\n",
    "])\n",
    "\n",
    "@app.callback(Output('tabs-content', 'children'),\n",
    "              [Input('tabs', 'value')])\n",
    "def render_content(tab):\n",
    "    cluster = int(tab.split('-')[1])\n",
    "    cluster_data = data_dict[cluster]\n",
    "    timeseries = cluster_data['timeseries']\n",
    "    average = cluster_data['average']\n",
    "    index_names = cluster_data['index_names']\n",
    "    date_columns = cluster_data['date_columns']\n",
    "\n",
    "    traces = []\n",
    "    for i, ts in enumerate(timeseries):\n",
    "        traces.append(go.Scatter(\n",
    "            x=date_columns,\n",
    "            y=ts,\n",
    "            mode='lines',\n",
    "            line=dict(width=1, color='#e5b983'),\n",
    "            name=index_names[i]\n",
    "        ))\n",
    "\n",
    "    traces.append(go.Scatter(\n",
    "        x=date_columns,\n",
    "        y=average,\n",
    "        mode='lines',\n",
    "        line=dict(width=2.5, color='#376c8a'),\n",
    "        name='Среднее'\n",
    "    ))\n",
    "\n",
    "    return dcc.Graph(\n",
    "        figure={\n",
    "            'data': traces,\n",
    "            'layout': go.Layout(\n",
    "                title=cluster_names[cluster],\n",
    "                showlegend=True,\n",
    "                font=dict(family='Gotham', size=14),\n",
    "        plot_bgcolor='white',\n",
    "        paper_bgcolor='white',\n",
    "        xaxis=dict(\n",
    "            showgrid=True,\n",
    "            gridcolor='lightgrey'\n",
    "        ),\n",
    "        yaxis=dict(\n",
    "            showgrid=True,\n",
    "            gridcolor='lightgrey'\n",
    "        ),\n",
    "        margin=dict(l=20, r=20, t=100, b=20)\n",
    "    )\n",
    "        }\n",
    "    )\n",
    "\n",
    "if __name__ == '__main__':\n",
    "    app.run_server(port=8051, debug=True)"
   ]
  }
 ],
 "metadata": {
  "kernelspec": {
   "display_name": "Python 3 (ipykernel)",
   "language": "python",
   "name": "python3"
  },
  "language_info": {
   "codemirror_mode": {
    "name": "ipython",
    "version": 3
   },
   "file_extension": ".py",
   "mimetype": "text/x-python",
   "name": "python",
   "nbconvert_exporter": "python",
   "pygments_lexer": "ipython3",
   "version": "3.11.7"
  }
 },
 "nbformat": 4,
 "nbformat_minor": 5
}
